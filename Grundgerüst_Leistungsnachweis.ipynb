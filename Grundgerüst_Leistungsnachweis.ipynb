{
 "cells": [
  {
   "cell_type": "markdown",
   "metadata": {},
   "source": [
    "## Veränderungen der Müttersterblichkeitsrate zwischen 1990 und 2020\n",
    "\n",
    "Gruppe: Veronika Miteva, Cristiana Pereira Bastos\n",
    "\n",
    "Fragen\n",
    "\n",
    "- Welche Länder verzeichneten zwischen 1990 und 2020 die grösste Zunahme bzw. Abnahme der Müttersterblichkeitsrate?\n",
    "- Welche Ursachen haben diese Veränderungen bewirkt?\n",
    "\n",
    "Quellen\n",
    "\n",
    "- https://ourworldindata.org/grapher/maternal-mortality?tab=chart\n",
    "\n"
   ]
  },
  {
   "cell_type": "markdown",
   "metadata": {},
   "source": [
    "## 1. Daten beschaffen und laden"
   ]
  },
  {
   "cell_type": "code",
   "execution_count": 28,
   "metadata": {},
   "outputs": [],
   "source": [
    "import pandas as pd\n",
    "from matplotlib import pyplot as plt"
   ]
  },
  {
   "cell_type": "code",
   "execution_count": 29,
   "metadata": {},
   "outputs": [
    {
     "data": {
      "text/html": [
       "<div>\n",
       "<style scoped>\n",
       "    .dataframe tbody tr th:only-of-type {\n",
       "        vertical-align: middle;\n",
       "    }\n",
       "\n",
       "    .dataframe tbody tr th {\n",
       "        vertical-align: top;\n",
       "    }\n",
       "\n",
       "    .dataframe thead th {\n",
       "        text-align: right;\n",
       "    }\n",
       "</style>\n",
       "<table border=\"1\" class=\"dataframe\">\n",
       "  <thead>\n",
       "    <tr style=\"text-align: right;\">\n",
       "      <th></th>\n",
       "      <th>Gebiet</th>\n",
       "      <th>Code</th>\n",
       "      <th>Jahr</th>\n",
       "      <th>Müttersterblichkeitsrate</th>\n",
       "    </tr>\n",
       "  </thead>\n",
       "  <tbody>\n",
       "    <tr>\n",
       "      <th>0</th>\n",
       "      <td>Afghanistan</td>\n",
       "      <td>AFG</td>\n",
       "      <td>1990</td>\n",
       "      <td>1377.8586</td>\n",
       "    </tr>\n",
       "    <tr>\n",
       "      <th>1</th>\n",
       "      <td>Afghanistan</td>\n",
       "      <td>AFG</td>\n",
       "      <td>1991</td>\n",
       "      <td>1392.7859</td>\n",
       "    </tr>\n",
       "    <tr>\n",
       "      <th>2</th>\n",
       "      <td>Afghanistan</td>\n",
       "      <td>AFG</td>\n",
       "      <td>1992</td>\n",
       "      <td>1451.5940</td>\n",
       "    </tr>\n",
       "    <tr>\n",
       "      <th>3</th>\n",
       "      <td>Afghanistan</td>\n",
       "      <td>AFG</td>\n",
       "      <td>1993</td>\n",
       "      <td>1368.8162</td>\n",
       "    </tr>\n",
       "    <tr>\n",
       "      <th>4</th>\n",
       "      <td>Afghanistan</td>\n",
       "      <td>AFG</td>\n",
       "      <td>1994</td>\n",
       "      <td>1375.0907</td>\n",
       "    </tr>\n",
       "  </tbody>\n",
       "</table>\n",
       "</div>"
      ],
      "text/plain": [
       "        Gebiet Code  Jahr  Müttersterblichkeitsrate\n",
       "0  Afghanistan  AFG  1990                 1377.8586\n",
       "1  Afghanistan  AFG  1991                 1392.7859\n",
       "2  Afghanistan  AFG  1992                 1451.5940\n",
       "3  Afghanistan  AFG  1993                 1368.8162\n",
       "4  Afghanistan  AFG  1994                 1375.0907"
      ]
     },
     "execution_count": 29,
     "metadata": {},
     "output_type": "execute_result"
    }
   ],
   "source": [
    "# loading the data\n",
    "df = pd.read_csv('maternal-mortality.csv', skiprows=1,\n",
    "                 names=['Gebiet','Code','Jahr','Müttersterblichkeitsrate']) \n",
    "df.head()  "
   ]
  },
  {
   "cell_type": "markdown",
   "metadata": {},
   "source": [
    "## 2. Daten vorbereiten \n",
    "- Die Roh-Daten sind bereits im Long-Format\n",
    "- Für die Analyse werden die Daten pivotiert: Jede Spalte repräsentiert eine Region, die Zeilen sind die verschiedenen Jahre - in absteigender Reihenfolge."
   ]
  },
  {
   "cell_type": "code",
   "execution_count": 30,
   "metadata": {},
   "outputs": [
    {
     "data": {
      "text/html": [
       "<div>\n",
       "<style scoped>\n",
       "    .dataframe tbody tr th:only-of-type {\n",
       "        vertical-align: middle;\n",
       "    }\n",
       "\n",
       "    .dataframe tbody tr th {\n",
       "        vertical-align: top;\n",
       "    }\n",
       "\n",
       "    .dataframe thead th {\n",
       "        text-align: right;\n",
       "    }\n",
       "</style>\n",
       "<table border=\"1\" class=\"dataframe\">\n",
       "  <thead>\n",
       "    <tr style=\"text-align: right;\">\n",
       "      <th>Jahr</th>\n",
       "      <th>1990</th>\n",
       "      <th>1991</th>\n",
       "      <th>1992</th>\n",
       "      <th>1993</th>\n",
       "      <th>1994</th>\n",
       "      <th>1995</th>\n",
       "      <th>1996</th>\n",
       "      <th>1997</th>\n",
       "      <th>1998</th>\n",
       "      <th>1999</th>\n",
       "      <th>...</th>\n",
       "      <th>2011</th>\n",
       "      <th>2012</th>\n",
       "      <th>2013</th>\n",
       "      <th>2014</th>\n",
       "      <th>2015</th>\n",
       "      <th>2016</th>\n",
       "      <th>2017</th>\n",
       "      <th>2018</th>\n",
       "      <th>2019</th>\n",
       "      <th>2020</th>\n",
       "    </tr>\n",
       "    <tr>\n",
       "      <th>Gebiet</th>\n",
       "      <th></th>\n",
       "      <th></th>\n",
       "      <th></th>\n",
       "      <th></th>\n",
       "      <th></th>\n",
       "      <th></th>\n",
       "      <th></th>\n",
       "      <th></th>\n",
       "      <th></th>\n",
       "      <th></th>\n",
       "      <th></th>\n",
       "      <th></th>\n",
       "      <th></th>\n",
       "      <th></th>\n",
       "      <th></th>\n",
       "      <th></th>\n",
       "      <th></th>\n",
       "      <th></th>\n",
       "      <th></th>\n",
       "      <th></th>\n",
       "      <th></th>\n",
       "    </tr>\n",
       "  </thead>\n",
       "  <tbody>\n",
       "    <tr>\n",
       "      <th>Afghanistan</th>\n",
       "      <td>1377.858600</td>\n",
       "      <td>1392.785900</td>\n",
       "      <td>1451.594000</td>\n",
       "      <td>1368.816200</td>\n",
       "      <td>1375.090700</td>\n",
       "      <td>1400.843100</td>\n",
       "      <td>1375.512100</td>\n",
       "      <td>1365.285400</td>\n",
       "      <td>1459.281700</td>\n",
       "      <td>1359.217000</td>\n",
       "      <td>...</td>\n",
       "      <td>883.713900</td>\n",
       "      <td>833.477200</td>\n",
       "      <td>820.685360</td>\n",
       "      <td>785.354060</td>\n",
       "      <td>775.692700</td>\n",
       "      <td>749.815700</td>\n",
       "      <td>681.807560</td>\n",
       "      <td>663.427500</td>\n",
       "      <td>644.272600</td>\n",
       "      <td>620.407530</td>\n",
       "    </tr>\n",
       "    <tr>\n",
       "      <th>Africa</th>\n",
       "      <td>850.230470</td>\n",
       "      <td>841.734440</td>\n",
       "      <td>866.155600</td>\n",
       "      <td>856.238300</td>\n",
       "      <td>823.597660</td>\n",
       "      <td>801.836240</td>\n",
       "      <td>797.670800</td>\n",
       "      <td>782.369260</td>\n",
       "      <td>804.273740</td>\n",
       "      <td>739.202330</td>\n",
       "      <td>...</td>\n",
       "      <td>559.112730</td>\n",
       "      <td>544.019350</td>\n",
       "      <td>535.414900</td>\n",
       "      <td>527.162960</td>\n",
       "      <td>511.222660</td>\n",
       "      <td>504.341700</td>\n",
       "      <td>496.157680</td>\n",
       "      <td>487.919560</td>\n",
       "      <td>478.501220</td>\n",
       "      <td>464.001100</td>\n",
       "    </tr>\n",
       "    <tr>\n",
       "      <th>Albania</th>\n",
       "      <td>32.874947</td>\n",
       "      <td>29.074210</td>\n",
       "      <td>27.674513</td>\n",
       "      <td>26.515451</td>\n",
       "      <td>24.240550</td>\n",
       "      <td>22.034124</td>\n",
       "      <td>18.685230</td>\n",
       "      <td>18.388054</td>\n",
       "      <td>15.522337</td>\n",
       "      <td>14.890729</td>\n",
       "      <td>...</td>\n",
       "      <td>8.045227</td>\n",
       "      <td>7.796703</td>\n",
       "      <td>7.215363</td>\n",
       "      <td>7.009861</td>\n",
       "      <td>6.878285</td>\n",
       "      <td>6.656085</td>\n",
       "      <td>6.689698</td>\n",
       "      <td>5.429293</td>\n",
       "      <td>5.305023</td>\n",
       "      <td>8.276446</td>\n",
       "    </tr>\n",
       "    <tr>\n",
       "      <th>Algeria</th>\n",
       "      <td>205.819780</td>\n",
       "      <td>203.991150</td>\n",
       "      <td>203.641430</td>\n",
       "      <td>203.941440</td>\n",
       "      <td>202.641190</td>\n",
       "      <td>203.828450</td>\n",
       "      <td>192.425870</td>\n",
       "      <td>180.901370</td>\n",
       "      <td>186.704060</td>\n",
       "      <td>186.782930</td>\n",
       "      <td>...</td>\n",
       "      <td>105.463295</td>\n",
       "      <td>99.075800</td>\n",
       "      <td>94.344080</td>\n",
       "      <td>86.151470</td>\n",
       "      <td>89.132650</td>\n",
       "      <td>88.997700</td>\n",
       "      <td>89.143540</td>\n",
       "      <td>79.491210</td>\n",
       "      <td>76.714340</td>\n",
       "      <td>77.694786</td>\n",
       "    </tr>\n",
       "    <tr>\n",
       "      <th>Angola</th>\n",
       "      <td>1101.505700</td>\n",
       "      <td>1057.425800</td>\n",
       "      <td>1144.283900</td>\n",
       "      <td>1096.306500</td>\n",
       "      <td>1062.217900</td>\n",
       "      <td>1022.624200</td>\n",
       "      <td>997.420500</td>\n",
       "      <td>961.121640</td>\n",
       "      <td>934.120200</td>\n",
       "      <td>893.486900</td>\n",
       "      <td>...</td>\n",
       "      <td>334.731300</td>\n",
       "      <td>304.040400</td>\n",
       "      <td>291.413970</td>\n",
       "      <td>291.747340</td>\n",
       "      <td>273.596530</td>\n",
       "      <td>269.823580</td>\n",
       "      <td>252.804860</td>\n",
       "      <td>233.096250</td>\n",
       "      <td>227.686970</td>\n",
       "      <td>221.906510</td>\n",
       "    </tr>\n",
       "    <tr>\n",
       "      <th>Argentina</th>\n",
       "      <td>87.814260</td>\n",
       "      <td>82.481020</td>\n",
       "      <td>81.170950</td>\n",
       "      <td>78.660240</td>\n",
       "      <td>77.387950</td>\n",
       "      <td>76.439950</td>\n",
       "      <td>69.662770</td>\n",
       "      <td>70.722530</td>\n",
       "      <td>69.755104</td>\n",
       "      <td>70.112686</td>\n",
       "      <td>...</td>\n",
       "      <td>50.251950</td>\n",
       "      <td>45.024837</td>\n",
       "      <td>43.346664</td>\n",
       "      <td>41.764570</td>\n",
       "      <td>39.335068</td>\n",
       "      <td>40.259438</td>\n",
       "      <td>38.243805</td>\n",
       "      <td>33.944830</td>\n",
       "      <td>32.602604</td>\n",
       "      <td>44.900078</td>\n",
       "    </tr>\n",
       "    <tr>\n",
       "      <th>Australia</th>\n",
       "      <td>8.255920</td>\n",
       "      <td>8.785240</td>\n",
       "      <td>8.792665</td>\n",
       "      <td>8.958936</td>\n",
       "      <td>9.348918</td>\n",
       "      <td>8.086464</td>\n",
       "      <td>7.786785</td>\n",
       "      <td>7.883337</td>\n",
       "      <td>7.467751</td>\n",
       "      <td>7.176690</td>\n",
       "      <td>...</td>\n",
       "      <td>5.937448</td>\n",
       "      <td>5.859328</td>\n",
       "      <td>5.993525</td>\n",
       "      <td>5.390199</td>\n",
       "      <td>5.244025</td>\n",
       "      <td>5.175834</td>\n",
       "      <td>4.771443</td>\n",
       "      <td>4.424252</td>\n",
       "      <td>5.085507</td>\n",
       "      <td>2.941509</td>\n",
       "    </tr>\n",
       "    <tr>\n",
       "      <th>Azerbaijan</th>\n",
       "      <td>47.490790</td>\n",
       "      <td>49.915430</td>\n",
       "      <td>51.201244</td>\n",
       "      <td>57.301630</td>\n",
       "      <td>59.103413</td>\n",
       "      <td>58.415882</td>\n",
       "      <td>65.263670</td>\n",
       "      <td>61.925827</td>\n",
       "      <td>63.672516</td>\n",
       "      <td>55.722027</td>\n",
       "      <td>...</td>\n",
       "      <td>30.739494</td>\n",
       "      <td>29.373413</td>\n",
       "      <td>28.398930</td>\n",
       "      <td>28.972912</td>\n",
       "      <td>29.377861</td>\n",
       "      <td>26.018137</td>\n",
       "      <td>26.893013</td>\n",
       "      <td>27.599777</td>\n",
       "      <td>26.869574</td>\n",
       "      <td>40.763668</td>\n",
       "    </tr>\n",
       "    <tr>\n",
       "      <th>Bahamas</th>\n",
       "      <td>53.264645</td>\n",
       "      <td>54.550106</td>\n",
       "      <td>56.040950</td>\n",
       "      <td>57.743706</td>\n",
       "      <td>53.773705</td>\n",
       "      <td>56.056854</td>\n",
       "      <td>59.031590</td>\n",
       "      <td>59.091793</td>\n",
       "      <td>54.490010</td>\n",
       "      <td>66.813896</td>\n",
       "      <td>...</td>\n",
       "      <td>100.577354</td>\n",
       "      <td>101.345790</td>\n",
       "      <td>82.225075</td>\n",
       "      <td>96.984470</td>\n",
       "      <td>84.445320</td>\n",
       "      <td>79.304985</td>\n",
       "      <td>77.332810</td>\n",
       "      <td>77.080315</td>\n",
       "      <td>82.026985</td>\n",
       "      <td>77.050640</td>\n",
       "    </tr>\n",
       "    <tr>\n",
       "      <th>Bahrain</th>\n",
       "      <td>35.826714</td>\n",
       "      <td>36.152843</td>\n",
       "      <td>34.825546</td>\n",
       "      <td>32.413730</td>\n",
       "      <td>32.255962</td>\n",
       "      <td>30.399502</td>\n",
       "      <td>27.933292</td>\n",
       "      <td>28.130380</td>\n",
       "      <td>27.162361</td>\n",
       "      <td>26.925420</td>\n",
       "      <td>...</td>\n",
       "      <td>19.374714</td>\n",
       "      <td>18.159740</td>\n",
       "      <td>16.158860</td>\n",
       "      <td>15.168355</td>\n",
       "      <td>15.747044</td>\n",
       "      <td>15.071607</td>\n",
       "      <td>15.388119</td>\n",
       "      <td>13.744946</td>\n",
       "      <td>14.503957</td>\n",
       "      <td>15.897882</td>\n",
       "    </tr>\n",
       "  </tbody>\n",
       "</table>\n",
       "<p>10 rows × 31 columns</p>\n",
       "</div>"
      ],
      "text/plain": [
       "Jahr                1990         1991         1992         1993         1994  \\\n",
       "Gebiet                                                                         \n",
       "Afghanistan  1377.858600  1392.785900  1451.594000  1368.816200  1375.090700   \n",
       "Africa        850.230470   841.734440   866.155600   856.238300   823.597660   \n",
       "Albania        32.874947    29.074210    27.674513    26.515451    24.240550   \n",
       "Algeria       205.819780   203.991150   203.641430   203.941440   202.641190   \n",
       "Angola       1101.505700  1057.425800  1144.283900  1096.306500  1062.217900   \n",
       "Argentina      87.814260    82.481020    81.170950    78.660240    77.387950   \n",
       "Australia       8.255920     8.785240     8.792665     8.958936     9.348918   \n",
       "Azerbaijan     47.490790    49.915430    51.201244    57.301630    59.103413   \n",
       "Bahamas        53.264645    54.550106    56.040950    57.743706    53.773705   \n",
       "Bahrain        35.826714    36.152843    34.825546    32.413730    32.255962   \n",
       "\n",
       "Jahr                1995         1996         1997         1998         1999  \\\n",
       "Gebiet                                                                         \n",
       "Afghanistan  1400.843100  1375.512100  1365.285400  1459.281700  1359.217000   \n",
       "Africa        801.836240   797.670800   782.369260   804.273740   739.202330   \n",
       "Albania        22.034124    18.685230    18.388054    15.522337    14.890729   \n",
       "Algeria       203.828450   192.425870   180.901370   186.704060   186.782930   \n",
       "Angola       1022.624200   997.420500   961.121640   934.120200   893.486900   \n",
       "Argentina      76.439950    69.662770    70.722530    69.755104    70.112686   \n",
       "Australia       8.086464     7.786785     7.883337     7.467751     7.176690   \n",
       "Azerbaijan     58.415882    65.263670    61.925827    63.672516    55.722027   \n",
       "Bahamas        56.056854    59.031590    59.091793    54.490010    66.813896   \n",
       "Bahrain        30.399502    27.933292    28.130380    27.162361    26.925420   \n",
       "\n",
       "Jahr         ...        2011        2012        2013        2014        2015  \\\n",
       "Gebiet       ...                                                               \n",
       "Afghanistan  ...  883.713900  833.477200  820.685360  785.354060  775.692700   \n",
       "Africa       ...  559.112730  544.019350  535.414900  527.162960  511.222660   \n",
       "Albania      ...    8.045227    7.796703    7.215363    7.009861    6.878285   \n",
       "Algeria      ...  105.463295   99.075800   94.344080   86.151470   89.132650   \n",
       "Angola       ...  334.731300  304.040400  291.413970  291.747340  273.596530   \n",
       "Argentina    ...   50.251950   45.024837   43.346664   41.764570   39.335068   \n",
       "Australia    ...    5.937448    5.859328    5.993525    5.390199    5.244025   \n",
       "Azerbaijan   ...   30.739494   29.373413   28.398930   28.972912   29.377861   \n",
       "Bahamas      ...  100.577354  101.345790   82.225075   96.984470   84.445320   \n",
       "Bahrain      ...   19.374714   18.159740   16.158860   15.168355   15.747044   \n",
       "\n",
       "Jahr               2016        2017        2018        2019        2020  \n",
       "Gebiet                                                                   \n",
       "Afghanistan  749.815700  681.807560  663.427500  644.272600  620.407530  \n",
       "Africa       504.341700  496.157680  487.919560  478.501220  464.001100  \n",
       "Albania        6.656085    6.689698    5.429293    5.305023    8.276446  \n",
       "Algeria       88.997700   89.143540   79.491210   76.714340   77.694786  \n",
       "Angola       269.823580  252.804860  233.096250  227.686970  221.906510  \n",
       "Argentina     40.259438   38.243805   33.944830   32.602604   44.900078  \n",
       "Australia      5.175834    4.771443    4.424252    5.085507    2.941509  \n",
       "Azerbaijan    26.018137   26.893013   27.599777   26.869574   40.763668  \n",
       "Bahamas       79.304985   77.332810   77.080315   82.026985   77.050640  \n",
       "Bahrain       15.071607   15.388119   13.744946   14.503957   15.897882  \n",
       "\n",
       "[10 rows x 31 columns]"
      ]
     },
     "execution_count": 30,
     "metadata": {},
     "output_type": "execute_result"
    }
   ],
   "source": [
    "df_pivot = df.pivot(index='Gebiet', columns='Jahr', values='Müttersterblichkeitsrate')\n",
    "df_pivot.head(10)"
   ]
  },
  {
   "cell_type": "markdown",
   "metadata": {},
   "source": [
    "## 3. Statistik der Roh-Daten (Analyse im Long-Format)\n",
    "\n",
    "Die Analyse der einzelnen Spalten ergibt folgende Erkenntnisse:  \n",
    "- Die Spalte *Gebiete* umfasst 110 unterschiedliche Regionen.  "
   ]
  },
  {
   "cell_type": "code",
   "execution_count": 31,
   "metadata": {},
   "outputs": [
    {
     "data": {
      "text/plain": [
       "Gebiet                       object\n",
       "Code                         object\n",
       "Jahr                          int64\n",
       "Müttersterblichkeitsrate    float64\n",
       "dtype: object"
      ]
     },
     "execution_count": 31,
     "metadata": {},
     "output_type": "execute_result"
    }
   ],
   "source": [
    "df.dtypes"
   ]
  },
  {
   "cell_type": "markdown",
   "metadata": {},
   "source": [
    "### 3.1 Analyse Gebiete"
   ]
  },
  {
   "cell_type": "code",
   "execution_count": 32,
   "metadata": {},
   "outputs": [
    {
     "name": "stdout",
     "output_type": "stream",
     "text": [
      "Anzahl verschiedener Gebiete:  110\n"
     ]
    }
   ],
   "source": [
    "print('Anzahl verschiedener Gebiete: ', len(df['Gebiet'].unique()))"
   ]
  },
  {
   "cell_type": "code",
   "execution_count": 33,
   "metadata": {},
   "outputs": [
    {
     "data": {
      "text/plain": [
       "Gebiet\n",
       "Afghanistan     31\n",
       "Portugal        31\n",
       "Slovenia        31\n",
       "Slovakia        31\n",
       "Sierra Leone    31\n",
       "                ..\n",
       "Estonia         31\n",
       "Eritrea         31\n",
       "Zimbabwe        31\n",
       "Dominica        10\n",
       "Mayotte          5\n",
       "Name: count, Length: 110, dtype: int64"
      ]
     },
     "execution_count": 33,
     "metadata": {},
     "output_type": "execute_result"
    }
   ],
   "source": [
    "# Anzahl Datenpunkte pro Gebiet\n",
    "df['Gebiet'].value_counts()"
   ]
  },
  {
   "cell_type": "code",
   "execution_count": 34,
   "metadata": {},
   "outputs": [
    {
     "data": {
      "text/plain": [
       "<Axes: title={'center': 'Anzahl Datenpunkte pro Gebiet'}, xlabel='Gebiet', ylabel='Anzahl Datenpunkte'>"
      ]
     },
     "execution_count": 34,
     "metadata": {},
     "output_type": "execute_result"
    },
    {
     "data": {
      "image/png": "[encoded data removed]",
      "text/plain": [
       "<Figure size 640x480 with 1 Axes>"
      ]
     },
     "metadata": {},
     "output_type": "display_data"
    }
   ],
   "source": [
    "df['Gebiet'].value_counts().plot(kind='bar', \n",
    "                                 xticks=[],     # disable labels on x-axis\n",
    "                                 ylabel='Anzahl Datenpunkte', title='Anzahl Datenpunkte pro Gebiet')"
   ]
  },
  {
   "cell_type": "markdown",
   "metadata": {},
   "source": [
    "### 3.2 Analyse Codes"
   ]
  },
  {
   "cell_type": "code",
   "execution_count": 35,
   "metadata": {},
   "outputs": [
    {
     "name": "stdout",
     "output_type": "stream",
     "text": [
      "Anzahl verschiedener Codes:  110\n"
     ]
    }
   ],
   "source": [
    "print('Anzahl verschiedener Codes: ', len(df['Code'].unique()))"
   ]
  },
  {
   "cell_type": "code",
   "execution_count": 36,
   "metadata": {},
   "outputs": [
    {
     "data": {
      "text/plain": [
       "Code\n",
       "AFG    31\n",
       "PRI    31\n",
       "SLB    31\n",
       "SVN    31\n",
       "SVK    31\n",
       "       ..\n",
       "FIN    31\n",
       "ETH    31\n",
       "ZWE    31\n",
       "DMA    10\n",
       "MYT     5\n",
       "Name: count, Length: 109, dtype: int64"
      ]
     },
     "execution_count": 36,
     "metadata": {},
     "output_type": "execute_result"
    }
   ],
   "source": [
    "# Anzahl Datenpunkte pro Gebiet\n",
    "df['Code'].value_counts()"
   ]
  },
  {
   "cell_type": "code",
   "execution_count": 37,
   "metadata": {},
   "outputs": [
    {
     "data": {
      "image/png": "[encoded data removed]",
      "text/plain": [
       "<Figure size 640x480 with 1 Axes>"
      ]
     },
     "metadata": {},
     "output_type": "display_data"
    }
   ],
   "source": [
    "df['Code'].value_counts().plot(kind='bar',xticks=[], ylabel='Anzahl Datenpunkte', title='Anzahl Datenpunkte pro Code');"
   ]
  },
  {
   "cell_type": "markdown",
   "metadata": {},
   "source": [
    "### 3.3 Analyse Jahr "
   ]
  },
  {
   "cell_type": "code",
   "execution_count": 38,
   "metadata": {},
   "outputs": [
    {
     "name": "stdout",
     "output_type": "stream",
     "text": [
      "Anzahl verschiedener Jahre:  31\n"
     ]
    }
   ],
   "source": [
    "print('Anzahl verschiedener Jahre: ', len(df['Jahr'].unique()))"
   ]
  },
  {
   "cell_type": "code",
   "execution_count": 39,
   "metadata": {},
   "outputs": [
    {
     "data": {
      "text/plain": [
       "Jahr\n",
       "1990    108\n",
       "1991    109\n",
       "1992    109\n",
       "1993    108\n",
       "1994    109\n",
       "1995    109\n",
       "1996    108\n",
       "1997    108\n",
       "1998    109\n",
       "1999    108\n",
       "2000    108\n",
       "2001    109\n",
       "2002    109\n",
       "2003    108\n",
       "2004    108\n",
       "2005    108\n",
       "2006    108\n",
       "2007    108\n",
       "2008    109\n",
       "2009    108\n",
       "2010    109\n",
       "2011    108\n",
       "2012    109\n",
       "2013    109\n",
       "2014    109\n",
       "2015    109\n",
       "2016    110\n",
       "2017    108\n",
       "2018    108\n",
       "2019    108\n",
       "2020    108\n",
       "Name: count, dtype: int64"
      ]
     },
     "execution_count": 39,
     "metadata": {},
     "output_type": "execute_result"
    }
   ],
   "source": [
    "# Anzahl Datenpunkte pro Jahr\n",
    "df['Jahr'].value_counts().sort_index()"
   ]
  },
  {
   "cell_type": "code",
   "execution_count": 48,
   "metadata": {},
   "outputs": [
    {
     "data": {
      "text/plain": [
       "<matplotlib.legend.Legend at 0x294d8c64c80>"
      ]
     },
     "execution_count": 48,
     "metadata": {},
     "output_type": "execute_result"
    },
    {
     "data": {
      "image/png": "[encoded data removed]",
      "text/plain": [
       "<Figure size 640x480 with 1 Axes>"
      ]
     },
     "metadata": {},
     "output_type": "display_data"
    }
   ],
   "source": [
    "# Jahre mit maximaler Anzahl Datenpunkte (109)\n",
    "g = df['Jahr'].value_counts().sort_index().plot(ylabel='Anzahl Datenpunkte', title='Anzahl Datenpunkte pro Jahr')\n",
    "g.axvline(x=1990, color='green',label='1990') # grüne Linie bei 1990 - ab diesem Jahr beginnen die Daten\n",
    "g.axvline(x=2020, color='red',label='2020') # rote Linie bei 2020 - bis zu diesem Jahr reichen die Daten\n",
    "\n",
    "g.legend()  # Legende anzeigen"
   ]
  },
  {
   "cell_type": "code",
   "execution_count": 46,
   "metadata": {},
   "outputs": [
    {
     "data": {
      "image/png": "[encoded data removed]",
      "text/plain": [
       "<Figure size 800x400 with 1 Axes>"
      ]
     },
     "metadata": {},
     "output_type": "display_data"
    }
   ],
   "source": [
    "# Zähle das Vorkommen jedes Jahres und speichere es in der Variablen g\n",
    "g = df['Jahr'].value_counts().sort_index()\n",
    "\n",
    "# Plotte die Häufigkeitswerte unter Verwendung von g\n",
    "plt.figure(figsize=(8, 4))\n",
    "ax = g.plot(kind='bar', ylabel='Anzahl Datenpunkte', title='Anzahl Datenpunkte pro Jahr')\n",
    "\n",
    "\n",
    "# Füge eine vertikale Linie für das Jahr 1990 hinzu\n",
    "jahr_index_start = g.index.get_loc(1990)  # Ermittle die Indexposition des Jahres 1990\n",
    "plt.axvline(x=jahr_index_start, color='green', label='1990')  # Verwende den richtigen Index für die vertikale Linie.\n",
    "\n",
    "# Füge eine vertikale Linie für das Jahr 2020 hinzu\n",
    "jahr_index_ende = g.index.get_loc(2020)  # Ermittle die Indexposition des Jahres 2020\n",
    "plt.axvline(x=jahr_index_ende, color='red', label='2020')  # Verwende den richtigen Index für die vertikale Linie\n",
    "\n",
    "# Legende anzeigen\n",
    "plt.legend()\n",
    "\n",
    "# Plot anzeigen\n",
    "plt.show()"
   ]
  },
  {
   "cell_type": "markdown",
   "metadata": {},
   "source": [
    "### 3.4 Analyse Lebenserwartung"
   ]
  }
 ],
 "metadata": {
  "kernelspec": {
   "display_name": "base",
   "language": "python",
   "name": "python3"
  },
  "language_info": {
   "codemirror_mode": {
    "name": "ipython",
    "version": 3
   },
   "file_extension": ".py",
   "mimetype": "text/x-python",
   "name": "python",
   "nbconvert_exporter": "python",
   "pygments_lexer": "ipython3",
   "version": "3.12.4"
  }
 },
 "nbformat": 4,
 "nbformat_minor": 2
}
